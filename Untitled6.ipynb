{
 "cells": [
  {
   "cell_type": "code",
   "execution_count": 1,
   "metadata": {},
   "outputs": [
    {
     "name": "stdout",
     "output_type": "stream",
     "text": [
      "Ваня\n",
      "Света\n",
      "Вера\n",
      "Ника\n",
      "Вероника\n",
      "Миша\n",
      "{5: ['Ваня', 'Света'], 3: ['Вера'], 4: ['Ника', 'Вероника', 'Миша']}\n"
     ]
    }
   ],
   "source": [
    "names={'Ваня':5, 'Света':5, 'Вера':3, 'Ника':4, 'Вероника':4, 'Миша':4}\n",
    "marks={}\n",
    "for i in names.keys():\n",
    "    print(i)\n",
    "    if marks.get(names[i])==None:\n",
    "        marks[names[i]] = [i] \n",
    "    else:\n",
    "        marks[names[i]].append(i) \n",
    "print(marks)\n"
   ]
  },
  {
   "cell_type": "code",
   "execution_count": null,
   "metadata": {
    "collapsed": true
   },
   "outputs": [],
   "source": []
  }
 ],
 "metadata": {
  "kernelspec": {
   "display_name": "Python 3",
   "language": "python",
   "name": "python3"
  },
  "language_info": {
   "codemirror_mode": {
    "name": "ipython",
    "version": 3
   },
   "file_extension": ".py",
   "mimetype": "text/x-python",
   "name": "python",
   "nbconvert_exporter": "python",
   "pygments_lexer": "ipython3",
   "version": "3.6.3"
  }
 },
 "nbformat": 4,
 "nbformat_minor": 2
}
