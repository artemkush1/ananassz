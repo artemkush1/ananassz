{
 "cells": [
  {
   "cell_type": "code",
   "execution_count": 80,
   "metadata": {},
   "outputs": [
    {
     "name": "stdout",
     "output_type": "stream",
     "text": [
      "Enter number of lines 4\n",
      "[[2. 3. 0. 0.]\n",
      " [4. 1. 3. 0.]\n",
      " [0. 3. 1. 2.]\n",
      " [0. 0. 2. 1.]]\n",
      "[1. 2. 3. 1.]\n",
      "[[ 2.          3.          0.          0.        ]\n",
      " [ 0.          2.5        -1.5         0.        ]\n",
      " [ 0.          0.         -2.33333333 -1.66666667]\n",
      " [ 0.          0.          0.         -0.5       ]]\n",
      "[[-0.77777778  0.          0.          0.        ]\n",
      " [ 0.          1.16666667  0.          0.        ]\n",
      " [ 0.          0.          0.7         0.        ]\n",
      " [ 0.          0.          0.         -0.5       ]]\n",
      "x_1 = 1.25\n",
      "x_2 = -0.5\n",
      "x_3 = -0.83\n",
      "x_4 = 2.67\n"
     ]
    }
   ],
   "source": [
    "import numpy as np\n",
    "import random\n",
    "N=int(input('Enter number of lines '))\n",
    "A=np.zeros((N,N),float)\n",
    "rp=np.zeros((N),float)\n",
    "\n",
    "for i in range(N):\n",
    "    rp[i]=float(random.randint(1,4)) #filling the right part\n",
    "                \n",
    "for i in range(N): \n",
    "    if i==0:\n",
    "        A[i,i], A[i,i+1] = float(random.randint(1,4)), float(random.randint(1,4))\n",
    "    elif i==N-1:\n",
    "        A[i,i-1], A[i,i] = float(random.randint(1,4)), float(random.randint(1,4))\n",
    "    else:    \n",
    "        A[i,i-1], A[i,i], A[i,i+1] = float(random.randint(1,4)), float(random.randint(1,4)), float(random.randint(1,4)) \n",
    "\n",
    "print(A)\n",
    "print(rp)\n",
    "\n",
    "for i in range (1,N):\n",
    "    rp[i]*=-( A[i-1, i-1] / A[i, i-1] )\n",
    "    A[i]*= -( A[i-1, i-1] / A[i, i-1] )\n",
    "    A[i]+=A[i-1]\n",
    "    rp[i]+=rp[i-1]\n",
    "    \n",
    "print(A) \n",
    "\n",
    "for i in range (N-2, -1, -1):\n",
    "    \n",
    "    rp[i]*=-( A[i+1, i+1] / A[i, i+1] )\n",
    "    A[i]*= -( A[i+1, i+1] / A[i, i+1] )\n",
    "    A[i]+=A[i+1]\n",
    "    rp[i]+=rp[i+1]\n",
    "    \n",
    "print(A)  \n",
    "\n",
    "for i in range (N):\n",
    "    rp[i]/=A[i,i]\n",
    "    print('x_', i+1, ' = ', round(rp[i],2), sep='')\n",
    "\n"
   ]
  },
  {
   "cell_type": "code",
   "execution_count": null,
   "metadata": {},
   "outputs": [],
   "source": []
  }
 ],
 "metadata": {
  "kernelspec": {
   "display_name": "Python 3",
   "language": "python",
   "name": "python3"
  },
  "language_info": {
   "codemirror_mode": {
    "name": "ipython",
    "version": 3
   },
   "file_extension": ".py",
   "mimetype": "text/x-python",
   "name": "python",
   "nbconvert_exporter": "python",
   "pygments_lexer": "ipython3",
   "version": "3.7.1"
  }
 },
 "nbformat": 4,
 "nbformat_minor": 2
}
