{
 "cells": [
  {
   "cell_type": "code",
   "execution_count": 5,
   "metadata": {},
   "outputs": [],
   "source": [
    "import numpy as np\n",
    "import random"
   ]
  },
  {
   "cell_type": "code",
   "execution_count": 6,
   "metadata": {},
   "outputs": [
    {
     "name": "stdout",
     "output_type": "stream",
     "text": [
      "33\n",
      "[[4. 4. 0. ... 0. 0. 0.]\n",
      " [5. 6. 4. ... 0. 0. 0.]\n",
      " [0. 6. 7. ... 0. 0. 0.]\n",
      " ...\n",
      " [0. 0. 0. ... 5. 4. 0.]\n",
      " [0. 0. 0. ... 6. 4. 2.]\n",
      " [0. 0. 0. ... 0. 4. 7.]]\n",
      "[5. 2. 3. 1. 6. 2. 7. 5. 3. 4. 6. 5. 7. 3. 7. 5. 2. 5. 2. 6. 2. 4. 4. 1.\n",
      " 3. 3. 6. 4. 4. 5. 1. 4. 2.]\n",
      "x_1 = 3.11\n",
      "x_2 = -1.86\n",
      "x_3 = -0.6\n",
      "x_4 = 3.67\n",
      "x_5 = -6.44\n",
      "x_6 = 4.07\n",
      "x_7 = 0.84\n",
      "x_8 = -2.11\n",
      "x_9 = 1.81\n",
      "x_10 = 0.5\n",
      "x_11 = -0.75\n",
      "x_12 = 7.0\n",
      "x_13 = -6.92\n",
      "x_14 = 6.45\n",
      "x_15 = -4.0\n",
      "x_16 = 0.92\n",
      "x_17 = 3.88\n",
      "x_18 = -1.42\n",
      "x_19 = -0.34\n",
      "x_20 = 0.89\n",
      "x_21 = 0.92\n",
      "x_22 = -4.26\n",
      "x_23 = 3.68\n",
      "x_24 = -2.19\n",
      "x_25 = -5.73\n",
      "x_26 = 6.02\n",
      "x_27 = -10.46\n",
      "x_28 = 4.44\n",
      "x_29 = 0.23\n",
      "x_30 = -0.15\n",
      "x_31 = 1.07\n",
      "x_32 = -1.05\n",
      "x_33 = 0.89\n"
     ]
    }
   ],
   "source": [
    "N=int(input())\n",
    "x=[0]*N\n",
    "\n",
    "for i in range(N):\n",
    "    x[i]=None\n",
    "values=np.zeros(N)\n",
    "for i in range(N):\n",
    "    values[i]=float(random.randint(1,7))\n",
    "matrix=np.zeros((N,N))\n",
    "for i in range(N):\n",
    "    matrix[i,i]=float(random.randint(1,7))\n",
    "    if i!=0:\n",
    "        matrix[i,i-1]=float(random.randint(1,7))\n",
    "    if i!=N-1:\n",
    "        matrix[i,i+1]=float(random.randint(1,7))\n",
    "print(matrix)\n",
    "print(values)\n",
    "\n",
    "for i in range(1,N):\n",
    "    if matrix[i-1,i-1]!=0:\n",
    "        k=matrix[i,i-1]/matrix[i-1,i-1]\n",
    "        matrix[i]-=(matrix[i-1]*k)\n",
    "        values[i]=values[i]-values[i-1]*k\n",
    "    else:\n",
    "        matrix[i],matrix[i-1]=matrix[i-1],matrix[i].copy()\n",
    "        values[i],values[i-1]=values[i-1],values[i].copy()\n",
    "\n",
    "for i in range(N):\n",
    "    for j in range(N):\n",
    "        matrix[i,j]=round(matrix[i,j],5)\n",
    "flag=False\n",
    "\n",
    "for i in range(N-1,-1,-1):\n",
    "    for j in range(N-1,-1,-1):\n",
    "        if matrix[i,j]!=0.:\n",
    "            if x[j]==None:\n",
    "                x[j]=values[i]/matrix[i,j]\n",
    "            else:\n",
    "                values[i]-=matrix[i,j]*x[j]\n",
    "    if all(a==0 for a in matrix[i]) and values(i)!=0:\n",
    "        flag=True\n",
    "if flag==True:\n",
    "    print('no solution')\n",
    "else:\n",
    "    for i in range(N):\n",
    "        print('x_', i+1,' = ', round(float(x[i]),2), sep='')"
   ]
  },
  {
   "cell_type": "code",
   "execution_count": null,
   "metadata": {},
   "outputs": [],
   "source": []
  }
 ],
 "metadata": {
  "kernelspec": {
   "display_name": "Python 3",
   "language": "python",
   "name": "python3"
  },
  "language_info": {
   "codemirror_mode": {
    "name": "ipython",
    "version": 3
   },
   "file_extension": ".py",
   "mimetype": "text/x-python",
   "name": "python",
   "nbconvert_exporter": "python",
   "pygments_lexer": "ipython3",
   "version": "3.7.1"
  }
 },
 "nbformat": 4,
 "nbformat_minor": 2
}
