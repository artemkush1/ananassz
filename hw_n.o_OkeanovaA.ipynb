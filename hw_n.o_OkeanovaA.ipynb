{
 "cells": [
  {
   "cell_type": "code",
   "execution_count": 33,
   "metadata": {},
   "outputs": [
    {
     "data": {
      "text/plain": [
       "(3e-10, 10000000000)"
      ]
     },
     "execution_count": 33,
     "metadata": {},
     "output_type": "execute_result"
    }
   ],
   "source": [
    "quad(1e10,3)"
   ]
  },
  {
   "cell_type": "code",
   "execution_count": 34,
   "metadata": {},
   "outputs": [],
   "source": [
    "def sum(a):\n",
    "    s=0\n",
    "    for x in range (a+1):\n",
    "        if x%15==0:\n",
    "            s+=x\n",
    "    print(s)"
   ]
  },
  {
   "cell_type": "code",
   "execution_count": 35,
   "metadata": {},
   "outputs": [
    {
     "name": "stdout",
     "output_type": "stream",
     "text": [
      "0\n"
     ]
    }
   ],
   "source": [
    "sum(7)"
   ]
  },
  {
   "cell_type": "code",
   "execution_count": 36,
   "metadata": {},
   "outputs": [
    {
     "name": "stdout",
     "output_type": "stream",
     "text": [
      "15\n"
     ]
    }
   ],
   "source": [
    "sum(16)"
   ]
  },
  {
   "cell_type": "code",
   "execution_count": 41,
   "metadata": {
    "scrolled": true
   },
   "outputs": [
    {
     "name": "stdout",
     "output_type": "stream",
     "text": [
      "8182350\n"
     ]
    }
   ],
   "source": [
    "sum(15667)"
   ]
  },
  {
   "cell_type": "markdown",
   "metadata": {},
   "source": [
    " # Уравнение"
   ]
  },
  {
   "cell_type": "code",
   "execution_count": 42,
   "metadata": {},
   "outputs": [],
   "source": [
    "def quad (b, c):\n",
    "    b=int(b)\n",
    "    c=int(c)\n",
    "    \n",
    "    if abs(b)>10**5:\n",
    "        x_1 = c/b; x_2=b\n",
    "        return(x_1,x_2)\n",
    "    \n",
    "    else:\n",
    "        D:float or complex\n",
    "    D=b**2-4*c\n",
    "    x_1: float or complex\n",
    "    x_2: float or complex\n",
    "    \n",
    "    if D>0:\n",
    "        x_1=float(-b+((D)**(1/2)))/2\n",
    "        x_2=float(-b-((D)**(1/2)))/2\n",
    "        return(x_1,x_2)\n",
    "    if D<0:\n",
    "        x_1 = complex(-b/2, ((-D)**(1/2))/ 2)\n",
    "        x_2 = complex(-b/2, -((-D)**(1/2))/ 2)\n",
    "        return(x_1,x_2)\n",
    "    else:\n",
    "        x_1=float(-b/2)\n",
    "        return(x_1,x_1)"
   ]
  },
  {
   "cell_type": "code",
   "execution_count": 43,
   "metadata": {},
   "outputs": [],
   "source": [
    "from numpy import allclose\n",
    "variants = [{'b': 8.0, 'c': 15.0},\n",
    "            {'b': -4.0, 'c': 4.0},\n",
    "            {'b': 240.0, 'c': 239.0},\n",
    "            {'b': 1e10, 'c': 3.0},\n",
    "            {'b': -1e10, 'c': 4.0},]"
   ]
  },
  {
   "cell_type": "code",
   "execution_count": 44,
   "metadata": {},
   "outputs": [
    {
     "name": "stdout",
     "output_type": "stream",
     "text": [
      "True\n",
      "True\n",
      "True\n",
      "True\n",
      "True\n"
     ]
    }
   ],
   "source": [
    "for var in variants:\n",
    "    x_1, x_2 = quad(**var)\n",
    "    print(allclose(x_1*x_2, var['c']))"
   ]
  },
  {
   "cell_type": "code",
   "execution_count": 45,
   "metadata": {},
   "outputs": [
    {
     "data": {
      "text/plain": [
       "(-4e-10, -10000000000)"
      ]
     },
     "execution_count": 45,
     "metadata": {},
     "output_type": "execute_result"
    }
   ],
   "source": [
    "quad(-1e10,4)"
   ]
  },
  {
   "cell_type": "code",
   "execution_count": null,
   "metadata": {},
   "outputs": [],
   "source": []
  }
 ],
 "metadata": {
  "kernelspec": {
   "display_name": "Python 3",
   "language": "python",
   "name": "python3"
  },
  "language_info": {
   "codemirror_mode": {
    "name": "ipython",
    "version": 3
   },
   "file_extension": ".py",
   "mimetype": "text/x-python",
   "name": "python",
   "nbconvert_exporter": "python",
   "pygments_lexer": "ipython3",
   "version": "3.7.1"
  }
 },
 "nbformat": 4,
 "nbformat_minor": 2
}
